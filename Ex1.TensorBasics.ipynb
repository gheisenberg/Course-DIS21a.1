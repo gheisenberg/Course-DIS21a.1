{
 "cells": [
  {
   "cell_type": "markdown",
   "metadata": {},
   "source": [
    "<img src=\"https://www.th-koeln.de/img/logo.svg\" style=\"float: right;\" width=\"200\">"
   ]
  },
  {
   "cell_type": "markdown",
   "metadata": {},
   "source": [
    "# 1st exercise: <font color=\"#C70039\">Getting Started with Tensors</font>\n",
    "* Course: DIS21a.1\n",
    "\n",
    "* Lecturer: <a href=\"https://www.gernotheisenberg.de/\">Gernot Heisenberg</a>\n",
    "* Author of notebook: <a href=\"https://www.gernotheisenberg.de/\">Gernot Heisenberg</a>\n",
    "* Date:   08.08.2023\n",
    "\n",
    "<img src=\"https://www.kdnuggets.com/wp-content/uploads/scalar-vector-matrix-tensor.jpg\" style=\"float: center;\" width=\"450\">\n",
    "\n",
    "---------------------------------\n",
    "**GENERAL NOTE 1**: \n",
    "Please make sure you are reading the entire notebook, since it contains a lot of information on your tasks (e.g. regarding the set of certain paramaters or a specific computational trick), and the written mark downs as well as comments contain a lot of information on how things work together as a whole. \n",
    "\n",
    "**GENERAL NOTE 2**: \n",
    "* Please, when commenting source code, just use English language only. \n",
    "* When describing an observation (for instance, after you have run through your test plan) you may use German language.\n",
    "This applies to all exercises in DIS 21a.1.  \n",
    "\n",
    "---------------------\n",
    "\n",
    "### <font color=\"ce33ff\">DESCRIPTION</font>:\n",
    "This notebook allows you for getting into tensors, as the most important mathematical concept in machine learning, as well as operations for and with tensors. This includes point-wise operations as well as slicing and reshaping. Besides, you will improve your python coding skills.\n",
    "\n",
    "-------------------------------------------------------------------------------------------------------------\n",
    "\n",
    "### <font color=\"FFC300\">TASKS</font>:\n",
    "The tasks that you need to work on within this notebook are always indicated below as bullet points. \n",
    "If a task is more challenging and consists of several steps, this is indicated as well. \n",
    "Make sure you have worked down the task list and commented your doings. \n",
    "This should be done by using markdown.<br> \n",
    "<font color=red>Make sure you don't forget to specify your name and your matriculation number in the notebook before submitting it.</font>\n",
    "\n",
    "**YOUR TASKS in this exercise are as follows**:\n",
    "1. import the notebook to Google Colab.\n",
    "    * of course you may use your local machine, too.\n",
    "2. make sure you specified you name and your matriculation number in the header below my name and date. \n",
    "    * set the date too and remove mine.\n",
    "3. read the entire notebook carefully \n",
    "    * add comments whereever you feel it necessary for better understanding\n",
    "    * run the notebook for the first time. \n",
    "4. take a random function in python and create the following: (the number of elements is up to you [except for the 0D tensor of course :-)]).\n",
    "    * 0D tensor\n",
    "    * 1D tensor\n",
    "    * 2D tensor\n",
    "    * 3D tensor\n",
    "5. print out the rank and the shape. \n",
    "6. visualize a batch of 20 images from the MNIST data set (randomly chosen).\n",
    "7. shift a window of 15x15 pixels through one of these images (starting in the uper left corner) and visualize it.\n",
    "    * shift the 15x15 window always one pixel to the right until you get to the end of the image and then move down. Visualize every image after the shift. \n",
    "8. reshape one image to 56x14 and visualize it again \n",
    "    * Describe what happened to the tensor entries!!!\n",
    "9. How would the image look alike when your reshape it to (784,1)?\n",
    "-----------------------------------------------------------------------------------"
   ]
  },
  {
   "cell_type": "markdown",
   "metadata": {},
   "source": [
    "_________________________________________________________\n",
    "### This sections deals with tensor basics\n",
    "_________________________________________________________"
   ]
  },
  {
   "cell_type": "code",
   "execution_count": null,
   "metadata": {
    "colab": {
     "base_uri": "https://localhost:8080/",
     "height": 35
    },
    "id": "iM8WuDD_Ibaw",
    "outputId": "dc2dff53-fa6a-4983-cae8-4dff2430683c",
    "tags": []
   },
   "outputs": [],
   "source": [
    "# this is a scalar or a 0D tensor (zero-dim tensor)\n",
    "# a 0D tensor is a tensor of rank 0\n",
    "import numpy as np\n",
    "scalar = np.array(13)\n",
    "scalar"
   ]
  },
  {
   "cell_type": "code",
   "execution_count": null,
   "metadata": {
    "colab": {
     "base_uri": "https://localhost:8080/",
     "height": 35
    },
    "id": "fPyb59dsI77Q",
    "outputId": "b2349d74-6aac-4bd5-f8ed-bbbc21007d5e",
    "tags": []
   },
   "outputs": [],
   "source": [
    "print('A scalar is of rank %d' %(scalar.ndim)) # ndim delivers the rank of a tensor"
   ]
  },
  {
   "cell_type": "markdown",
   "metadata": {
    "id": "BQTSmxKQJ9Cs"
   },
   "source": [
    "the rank of a tensor is also often referred to as the axis of the tensor. Hence the axis of a scalar, a 0D-tensor is zero\n",
    "\n",
    "```\n",
    "# formatted as code\n",
    "```\n",
    "\n"
   ]
  },
  {
   "cell_type": "code",
   "execution_count": null,
   "metadata": {
    "colab": {
     "base_uri": "https://localhost:8080/",
     "height": 35
    },
    "id": "-NhgY0WNj_fi",
    "outputId": "a3973620-0dd8-4050-fd19-ff3e6a900e33",
    "tags": []
   },
   "outputs": [],
   "source": [
    "# this is a vector or a 1D tensor \n",
    "# a 1D tensor is a tensor of rank 1 with 1 axis.\n",
    "vector = np.array([11,12,13,14,15])\n",
    "vector\n"
   ]
  },
  {
   "cell_type": "code",
   "execution_count": null,
   "metadata": {
    "colab": {
     "base_uri": "https://localhost:8080/",
     "height": 35
    },
    "id": "E9jK-fbfkYCa",
    "outputId": "306d73d3-ef49-4de6-b201-9d2ef2963739",
    "tags": []
   },
   "outputs": [],
   "source": [
    "print('A vector is of rank %d' %(vector.ndim)) # ndim delivers the rank of a tensor"
   ]
  },
  {
   "cell_type": "code",
   "execution_count": null,
   "metadata": {
    "colab": {
     "base_uri": "https://localhost:8080/",
     "height": 70
    },
    "id": "BjPMr6MrlU71",
    "outputId": "ef700e6a-ba34-4699-9604-2f266e6e3c23",
    "tags": []
   },
   "outputs": [],
   "source": [
    "# this is a matrix or a 2D tensor \n",
    "# a 2D tensor is a tensor of rank 2 with 2 axes.\n",
    "mat = np.array([[1,2,3,4,5],\n",
    "               [11,12,13,14,15],\n",
    "               [21,22,23,24,25]])\n",
    "mat"
   ]
  },
  {
   "cell_type": "code",
   "execution_count": null,
   "metadata": {
    "colab": {
     "base_uri": "https://localhost:8080/",
     "height": 35
    },
    "id": "mUP_U6Iql4TU",
    "outputId": "6bf1bf80-24ab-4c64-de67-2b7c8d502b20",
    "tags": []
   },
   "outputs": [],
   "source": [
    "print('A matrix is of rank %d' %(mat.ndim)) # ndim delivers the rank of a tensor"
   ]
  },
  {
   "cell_type": "markdown",
   "metadata": {
    "id": "f9uuhSHBmaD-"
   },
   "source": [
    "the entries from the first axis are the \"rows\"\n",
    "the entris from the second axis are the \"columns\""
   ]
  },
  {
   "cell_type": "code",
   "execution_count": null,
   "metadata": {
    "colab": {
     "base_uri": "https://localhost:8080/",
     "height": 35
    },
    "id": "AcIoul_xnTy9",
    "outputId": "283d64f1-ea6a-4d36-e752-a8521839ebb3",
    "tags": []
   },
   "outputs": [],
   "source": [
    "# this is a slightly bigger matrix\n",
    "mat2 = np.array([[1,2,3,4,5],\n",
    "               [11,12,13,14,15],\n",
    "               [21,22,23,24,25],\n",
    "               [31,32,33,34,35],\n",
    "               [41,42,43,44,45]])\n",
    "\n",
    "print('This matrix is of rank %d, too' %(mat2.ndim)) # rank or axes refer to rows and columns"
   ]
  },
  {
   "cell_type": "code",
   "execution_count": null,
   "metadata": {
    "colab": {
     "base_uri": "https://localhost:8080/",
     "height": 212
    },
    "id": "hN9652rYzRtI",
    "outputId": "6a63977d-ae01-4c7c-c9a4-485ef3f6d219",
    "tags": []
   },
   "outputs": [],
   "source": [
    "# this is a cube or a 3D tensor \n",
    "# a 3D tensor is a tensor of rank 3 with 3 axes.\n",
    "cube = np.array([[[1,2,3,4,5],\n",
    "               [11,12,13,14,15],\n",
    "               [21,22,23,24,25]], #the first axis\n",
    "               [[6,7,8,9,10],\n",
    "               [16,17,18,19,20],\n",
    "               [26,27,28,29,30]], # the second axis\n",
    "               [[100,200,300,400,500],\n",
    "               [110,120,130,140,150],\n",
    "               [2121,2221,2321,2421,2521]]]) # the third axis\n",
    "cube"
   ]
  },
  {
   "cell_type": "code",
   "execution_count": null,
   "metadata": {
    "colab": {
     "base_uri": "https://localhost:8080/",
     "height": 35
    },
    "id": "yfj1xvQl1YFP",
    "outputId": "88417fa0-1547-4d7e-957a-95ebd557fbc6",
    "tags": []
   },
   "outputs": [],
   "source": [
    "print('This cube is of rank %d' %(cube.ndim)) # rank or axes refer to rows and columns and depth"
   ]
  },
  {
   "cell_type": "code",
   "execution_count": null,
   "metadata": {
    "colab": {
     "base_uri": "https://localhost:8080/",
     "height": 35
    },
    "id": "4Tt7nb_V2zq2",
    "outputId": "a8e3f216-a887-474a-d7c2-ddd9ad29494a",
    "tags": []
   },
   "outputs": [],
   "source": [
    "# shape of scalar\n",
    "scalar.shape"
   ]
  },
  {
   "cell_type": "code",
   "execution_count": null,
   "metadata": {
    "colab": {
     "base_uri": "https://localhost:8080/",
     "height": 35
    },
    "id": "PlWRD2UA25yX",
    "outputId": "76ef128f-11cd-4591-8431-070d058ada2a",
    "tags": []
   },
   "outputs": [],
   "source": [
    "# shape of vector\n",
    "vector.shape"
   ]
  },
  {
   "cell_type": "code",
   "execution_count": null,
   "metadata": {
    "colab": {
     "base_uri": "https://localhost:8080/",
     "height": 52
    },
    "id": "troB_GQyogVe",
    "outputId": "07c02764-b763-433f-c653-be20968eba1f",
    "tags": []
   },
   "outputs": [],
   "source": [
    "# so what is the difference between mat and mat2??\n",
    "# -> it is the shape of the matrices\n",
    "# the 'shape' delivers how  many dimensions the tensor has got along each axis\n",
    "print('The shape of matrix mat is ')\n",
    "mat.shape"
   ]
  },
  {
   "cell_type": "code",
   "execution_count": null,
   "metadata": {
    "colab": {
     "base_uri": "https://localhost:8080/",
     "height": 52
    },
    "id": "2E6q-eX6o7jU",
    "outputId": "25f49ecd-d208-40b9-d4dc-1060ab446444",
    "tags": []
   },
   "outputs": [],
   "source": [
    "print('The shape of matrix mat2 is ')\n",
    "mat2.shape"
   ]
  },
  {
   "cell_type": "code",
   "execution_count": null,
   "metadata": {
    "colab": {
     "base_uri": "https://localhost:8080/",
     "height": 35
    },
    "id": "ST63jWB73DKn",
    "outputId": "60209888-4d90-40b9-b17c-2230b5a8dc13",
    "tags": []
   },
   "outputs": [],
   "source": [
    "# shape of cube\n",
    "cube.shape"
   ]
  },
  {
   "cell_type": "markdown",
   "metadata": {
    "id": "tgjnQa2celFp"
   },
   "source": [
    "_________________________________________________________\n",
    "### This sections deals with more complex shapes and tensors\n",
    "_________________________________________________________"
   ]
  },
  {
   "cell_type": "code",
   "execution_count": null,
   "metadata": {
    "colab": {
     "base_uri": "https://localhost:8080/",
     "height": 52
    },
    "id": "d762d8lHekDH",
    "outputId": "b312e9f1-225f-488d-e067-894037a54304",
    "tags": []
   },
   "outputs": [],
   "source": [
    "#imports\n",
    "from tensorflow.keras.datasets import mnist\n",
    "import matplotlib.pyplot as plt\n",
    "\n",
    "# load data set, that is split already into a training and testing set\n",
    "(train_images, train_labels), (test_images, test_labels) = mnist.load_data()"
   ]
  },
  {
   "cell_type": "code",
   "execution_count": null,
   "metadata": {
    "colab": {
     "base_uri": "https://localhost:8080/",
     "height": 70
    },
    "id": "V6RelWy8giJi",
    "outputId": "1962dcda-09be-4d63-e012-10e3af23a5a9",
    "tags": []
   },
   "outputs": [],
   "source": [
    "print(train_images.shape)\n",
    "print(train_images.dtype)\n",
    "print(train_images.ndim)"
   ]
  },
  {
   "cell_type": "code",
   "execution_count": null,
   "metadata": {
    "colab": {
     "base_uri": "https://localhost:8080/",
     "height": 265
    },
    "id": "M2PHQCOMfnwH",
    "outputId": "46e85182-3e31-41a8-8a34-55ca38a25a46",
    "tags": []
   },
   "outputs": [],
   "source": [
    "trainimage_picked = train_images[666] # pick image at index 666 from the training data set\n",
    "plt.imshow(trainimage_picked, cmap=plt.cm.binary)\n",
    "plt.show()"
   ]
  },
  {
   "cell_type": "markdown",
   "metadata": {
    "id": "_zva-oGukO1q"
   },
   "source": [
    "______________________________________________________________\n",
    "Sometimes is it useful just to take parts/slices of data sets. Here is how to slice tensors. \n",
    "We just take a slice (often denoted as a batch) of 90 images,\n",
    "from index 10 to 99. **NOTE** that all three ways of slicing result\n",
    "in the same.\n",
    "______________________________________________________________"
   ]
  },
  {
   "cell_type": "code",
   "execution_count": null,
   "metadata": {
    "colab": {
     "base_uri": "https://localhost:8080/",
     "height": 35
    },
    "id": "tOpXrfeNjpW1",
    "outputId": "8b4004d4-fa10-413f-a506-3ce095a52c2c",
    "tags": []
   },
   "outputs": [],
   "source": [
    "my_slice = train_images[10:100, 0:28, 0:28]\n",
    "my_slice.shape"
   ]
  },
  {
   "cell_type": "code",
   "execution_count": null,
   "metadata": {
    "colab": {
     "base_uri": "https://localhost:8080/",
     "height": 35
    },
    "id": "7hvb6dhhkaDy",
    "outputId": "24c82af0-3526-4974-d221-37c8326318c5",
    "tags": []
   },
   "outputs": [],
   "source": [
    "my_slice = train_images[10:100, :, :]\n",
    "my_slice.shape"
   ]
  },
  {
   "cell_type": "code",
   "execution_count": null,
   "metadata": {
    "colab": {
     "base_uri": "https://localhost:8080/",
     "height": 35
    },
    "id": "b4IAgIT-kdzl",
    "outputId": "9af07396-f5e7-4ede-ac94-fac148c8356f",
    "tags": []
   },
   "outputs": [],
   "source": [
    "my_slice = train_images[10:100]\n",
    "print(my_slice.shape)"
   ]
  },
  {
   "cell_type": "code",
   "execution_count": null,
   "metadata": {
    "colab": {
     "base_uri": "https://localhost:8080/",
     "height": 35
    },
    "id": "mNgo-FBlmEKl",
    "outputId": "ced41fd0-848b-45fd-9ded-1bca2195faeb",
    "tags": []
   },
   "outputs": [],
   "source": [
    "# also parts of images can be extracted by slicing the other axes of the tensor\n",
    "my_slice = train_images[10:100, 14:, 14:] # this takes the bottom-right corner of each of the 90 images\n",
    "print(my_slice.shape)"
   ]
  },
  {
   "cell_type": "code",
   "execution_count": null,
   "metadata": {
    "colab": {
     "base_uri": "https://localhost:8080/",
     "height": 35
    },
    "id": "3-xQ2RNgmm9z",
    "outputId": "2726e41e-3bcd-4772-8276-c76fe7c12cbf",
    "tags": []
   },
   "outputs": [],
   "source": [
    "# by using a negative index, you slice out the center piece.\n",
    "my_slice = train_images[10:100, 7:-7, 7:-7]\n",
    "print(my_slice.shape)"
   ]
  },
  {
   "cell_type": "markdown",
   "metadata": {},
   "source": [
    "_________________________________________________________\n",
    "### This sections deals with reshaping of tensors\n",
    "_________________________________________________________"
   ]
  },
  {
   "cell_type": "code",
   "execution_count": null,
   "metadata": {
    "colab": {
     "base_uri": "https://localhost:8080/",
     "height": 88
    },
    "id": "06ndozzRkoyI",
    "outputId": "b36e317b-5a13-491c-c7b6-a58a22205ca6",
    "tags": []
   },
   "outputs": [],
   "source": [
    "my_tensor = np.array([[0., 1.], [20., 30.], [400., 500.]])\n",
    "print(\"The shape of my_tensor is:\", my_tensor.shape)\n",
    "my_tensor"
   ]
  },
  {
   "cell_type": "code",
   "execution_count": null,
   "metadata": {
    "colab": {
     "base_uri": "https://localhost:8080/",
     "height": 141
    },
    "id": "s_m1gUnclI4k",
    "outputId": "992e19f8-7576-4ade-aef3-124c0f1e8534",
    "tags": []
   },
   "outputs": [],
   "source": [
    "my_tensor=my_tensor.reshape((6,1))\n",
    "print(\"The shape of my_tensor is:\", my_tensor.shape)\n",
    "my_tensor"
   ]
  },
  {
   "cell_type": "code",
   "execution_count": null,
   "metadata": {
    "colab": {
     "base_uri": "https://localhost:8080/",
     "height": 70
    },
    "id": "rElHtv0klffF",
    "outputId": "e2887a1f-66d8-4552-9227-556c93d14f9e",
    "tags": []
   },
   "outputs": [],
   "source": [
    "my_tensor=my_tensor.reshape((2,3))\n",
    "print(\"The shape of my_tensor is:\", my_tensor.shape)\n",
    "my_tensor"
   ]
  },
  {
   "cell_type": "code",
   "execution_count": null,
   "metadata": {
    "colab": {
     "base_uri": "https://localhost:8080/",
     "height": 52
    },
    "id": "wFGYu-49njRE",
    "outputId": "40e50ec2-26a0-4fc1-d113-39eb87229c50",
    "tags": []
   },
   "outputs": [],
   "source": [
    "print(\"Shape of train_images after loading\", train_images.shape)\n",
    "print(\"rank=\",train_images.ndim)\n"
   ]
  },
  {
   "cell_type": "code",
   "execution_count": null,
   "metadata": {
    "colab": {
     "base_uri": "https://localhost:8080/",
     "height": 35
    },
    "id": "_zR_Jc05oAKk",
    "outputId": "e905c4d1-a6df-4875-f9a1-5a89b681786d",
    "tags": []
   },
   "outputs": [],
   "source": [
    "train_images = train_images.reshape((60000,28*28))\n",
    "print(\"Shape of train_images after reshaping\", train_images.shape)\n"
   ]
  },
  {
   "cell_type": "markdown",
   "metadata": {},
   "source": [
    "--------------------------\n",
    "### <font color=\"#C70039\">here starts your own coding section</font>"
   ]
  },
  {
   "cell_type": "code",
   "execution_count": null,
   "metadata": {},
   "outputs": [],
   "source": []
  },
  {
   "cell_type": "code",
   "execution_count": null,
   "metadata": {},
   "outputs": [],
   "source": []
  }
 ],
 "metadata": {
  "colab": {
   "collapsed_sections": [],
   "name": "TensorBasics.ipynb",
   "provenance": []
  },
  "kernelspec": {
   "display_name": "Python 3 (ipykernel)",
   "language": "python",
   "name": "python3"
  },
  "language_info": {
   "codemirror_mode": {
    "name": "ipython",
    "version": 3
   },
   "file_extension": ".py",
   "mimetype": "text/x-python",
   "name": "python",
   "nbconvert_exporter": "python",
   "pygments_lexer": "ipython3",
   "version": "3.9.17"
  }
 },
 "nbformat": 4,
 "nbformat_minor": 4
}
