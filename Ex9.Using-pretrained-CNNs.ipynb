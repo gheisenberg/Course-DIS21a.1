{
 "cells": [
  {
   "cell_type": "markdown",
   "metadata": {},
   "source": [
    "<img src=\"https://www.th-koeln.de/img/logo.svg\" style=\"float: right;\" width=\"200\">"
   ]
  },
  {
   "cell_type": "markdown",
   "metadata": {},
   "source": [
    "# 9th exercise: <font color=\"#C70039\">Using pre-trained CNNs for better predictions</font>\n",
    "* Course: DIS21a.1\n",
    "* Lecturer: <a href=\"https://www.gernotheisenberg.de/\">Gernot Heisenberg</a>\n",
    "* Author of notebook modifications and adaptations: <a href=\"https://www.gernotheisenberg.de/\">Gernot Heisenberg</a>\n",
    "* Date:   08.08.2023\n",
    "\n",
    "<table><tr>\n",
    "<td> <img src=\"https://miro.medium.com/max/491/1*heOde2iTazjgrF7YzvOFyQ.png\" style=\"width: 350px;\"/> </td>\n",
    "<td> <img src=\"https://miro.medium.com/max/510/1*7ZD-u-h8hFPuN2PYJvLMBw.png\" style=\"width: 363px;\"/> </td>\n",
    "</tr></table>\n",
    "\n",
    "---------------------------------\n",
    "**GENERAL NOTE 1**: \n",
    "Please make sure you are reading the entire notebook, since it contains a lot of information about your tasks (e.g. regarding the set of certain paramaters or specific computational tricks, etc.), and the written mark downs as well as comments contain a lot of information on how things work together as a whole. \n",
    "\n",
    "**GENERAL NOTE 2**: \n",
    "* Please, when commenting source code, just use English language only. \n",
    "* When describing an observation (for instance, after you have run through your test plan) you may use German language.\n",
    "This applies to all exercises in DIS 21a.1.  \n",
    "\n",
    "---------------------\n",
    "\n",
    "### <font color=\"ce33ff\">DESCRIPTION</font>:\n",
    "\n",
    "This notebook allows for reviewing two additional and essential techniques for applying deep learning to small data sets. These are: \n",
    "* doing feature extraction with a pre-trained network (this will get you to an accuracy of 90% up to 93%)\n",
    "* fine-tuning a pre-trained network (this will get you to a final accuracy of 95%). \n",
    "\n",
    "In combination, the three strategies you have learned, as (1) training a small model from scratch as in the previous exercise, (2) doing feature extracting using a pre-trained model, and (3) fine-tuning a pre-trained model will constitute your future toolbox for tackling the problem of performing computer vision with small data sets.\n",
    "\n",
    "The reason the latter two are good options is that deep learning models are by nature highly reusable. It is possible to take an image classification model trained on a large-scale data set and then reuse it on a significantly different problem with only minor changes. \n",
    "Specifically, in the case of computer vision, many pre-trained models (usually trained on the ImageNet data set) are now publicly available for download and can be used to bootstrap (`https://de.wikipedia.org/wiki/Bootstrapping`) powerful vision models out of very little data. \n",
    "\n",
    "That is what you will learn in this exercise.\n",
    "\n",
    "-------------------------------------------------------------------------------------------------------------\n",
    "\n",
    "### <font color=\"FFC300\">TASKS</font>:\n",
    "Within this notebook, the tasks that you need to work on are always listed as bullet points below. \n",
    "If a task is more challenging and consists of several steps, this is indicated as well. \n",
    "Make sure you have worked down the task list and commented your doings. \n",
    "This should be done using markdown.<br> \n",
    "<font color=red>Make sure you don't forget to specify your name and your matriculation number in the notebook before submitting it.</font>\n",
    "\n",
    "**YOUR TASKS in this exercise are as follows**:\n",
    "1. import the notebook to Google Colab.\n",
    "2. make sure you specified you name and your matriculation number in the header below my name and date. \n",
    "    * set the date too and remove mine.\n",
    "3. read the entire notebook carefully.  \n",
    "    * add comments whereever you feel it necessary for better understanding.\n",
    "    * run the notebook for the first time and note the result in a markdown table. \n",
    "        * I have provided you with an example of a table in markdown (see below). Make sure you adapt your table accordingly. \n",
    "        * Put the table at the end of the notebook. \n",
    "        * This type of table will be needed in the other exercises as well. Always put it at the end.\n",
    "    \n",
    "| type of method | loss function | optimizer | accuracy |\n",
    "| :-: | :-: | :-: | :-: |\n",
    "| classification | categorical_crossentropy | bamm !|.666\n",
    "\n",
    "4. in PART I, \n",
    "    * save the model of feature extraction with method A\n",
    "    * load the model in a new, own code line,\n",
    "    * print out the model's summary,\n",
    "5. in PART I, if you have a personal data cracking machine with GPU support try to compile and train the model of feature extraction with method B.\n",
    "    * if you do not have a GPU (Note: you can have GPU support in Colab, too), then \n",
    "        * load the model I have saved for you on Moodle (it was too large to be put on github),\n",
    "        * print out the model's summary.\n",
    "6. then, after you loaded the model,\n",
    "    * take the validation data set and validate it using a history object,\n",
    "    * take the history object and plot the validaton results using pyplot.\n",
    "7. in PART II,  \n",
    "    * save the model using fine-tuning\n",
    "    * validate the model by using the validation data set using a history object\n",
    "    * take the history object and plot the validaton results using pyplot.\n",
    "8. in PART II, do a validation using the same model\n",
    "    * with more validation data (4000 samples)\n",
    "    * with less validation data (500 samples)\n",
    "   Store the results into a table. What is your observation?\n",
    "   \n",
    "-----------------------------------------------------------------------------------"
   ]
  },
  {
   "cell_type": "markdown",
   "metadata": {},
   "source": [
    "## START OF THE NOTEBOOK CODE\n",
    "----------------------------------------------------------------------------------------------------------------------\n",
    "### Preface\n",
    "\n",
    "A pre-trained network is simply a saved network previously trained on a large data set, typically on a large-scale image classification task. If this original data set is large and general enough, then the spatial feature hierarchy learned by the pre-trained network can effectively act as a generic model of our visual world and hence its features can prove useful for many different computer vision problems, even though these new problems might involve completely different classes from those of the original task. \n",
    "\n",
    "For instance, one might train a network on ImageNet (where classes are mostly animals and everyday objects) and then re-purpose this trained network for something as remote as identifying furniture items in images. Such portability of learned features across different problems is a key advantage of deep learning compared to many older shallow learning approaches, and it makes deep learning very effective for small-data problems.\n",
    "\n",
    "In the case of this exercise, a large CNN trained on the ImageNet data set is going to be used. ImageNet contains many animal classes, including different species of cats and dogs, and we can thus expect to perform very well on our cat vs. dog classification problem (1.4 million labeled images and 1000 different classes: read more following <a href=\"https://de.wikipedia.org/wiki/ImageNet\">https://de.wikipedia.org/wiki/ImageNet</a>).\n",
    "\n",
    "We will use the VGG16 architecture, developed by Karen Simonyan and Andrew Zisserman in 2014, a simple and widely used CNN architecture for ImageNet (<a href=\"https://keras.io/api/applications/vgg/\">https://keras.io/api/applications/vgg/</a>). \n",
    "\n",
    "Although it is a bit of an older model, its architecture is similar to what you are already familiar with, and easy to understand without introducing any new concepts. You may also have heart other model names e.g. -- VGG, ResNet, Inception, Inception-ResNet, Xception... you will get used to them, as they will come up frequently if you keep doing deep learning for computer vision.\n",
    "\n",
    "So finally, let's get started with feature extraction."
   ]
  },
  {
   "cell_type": "markdown",
   "metadata": {},
   "source": [
    "## <font color=\"#C70039\">PART I</font>\n",
    "### building a CNN by using a pre-trained CNN with feature extraction\n",
    "\n",
    "Feature extraction consists of using the representations learned by a previous network to extract interesting features from new samples. These features are then run through a new classifier, which is trained from scratch.\n",
    "\n",
    "As we saw previously, CNNs used for image classification comprise two parts: they start with a series of pooling and convolution layers, and they end with a densely (fully) connected classifier. \n",
    "\n",
    "The first part is called the \"convolutional base\" of the model. In the case of CNNs, \"feature extraction\" will simply consist of taking the convolutional base of a previously-trained network, running the new data through it, and training a new classifier on top of the output (see pages 254-258 in slides `DIS21a.1-9.Convolutional.NeuralNetworks.pdf`).\n",
    "\n",
    "Why only reuse the convolutional base? Could we reuse the densely-connected classifier as well? \n",
    "\n",
    "In general, it should be avoided. The reason is simply that the representations learned by the convolutional base are likely to be more generic and therefore more reusable: the \n",
    "feature maps of a CNN are presence maps of generic concepts over a picture, which is likely to be useful regardless of the computer vision problem at hand. \n",
    "On the other end, the representations learned by the classifier will necessarily be very specific to the set of \n",
    "classes that the model was trained on -- they will only contain information about the presence probability of this or that class in the entire picture. \n",
    "Additionally, representations found in densely (fully) connected layers no longer contain any information about _where_ objects are located in the input image: these layers get rid of the notion of space, whereas the object location is still described by convolutional feature maps. For problems where object location matters, densely (fully) connected features would be largely useless.\n",
    "\n",
    "Note, the level of generality (and therefore reusability) of the representations extracted by specific convolution layers depends on the depth of the layer in the model. Layers that come earlier in the model, extract local, highly generic feature maps (such as visual edges, colors, and textures), while layers higher-up extract more abstract concepts (such as \"cat ear\" or \"dog eye\"). So if your new data set differs a lot from the data set that the original model was trained on, you may be better off using only the first few layers of the model to do feature extraction, rather than using the entire convolutional base (compare the two images at the top of this exercise notebook that I provided you with).\n",
    "\n",
    "In our case, since the ImageNet class set did contain multiple dog and cat classes, it is likely that it would be beneficial to reuse the information contained in the densely (fully) connected layers of the original model. However, we will choose not to, in order to cover the more general case where the class set of the new problem does not overlap with the class set of the original model."
   ]
  },
  {
   "cell_type": "markdown",
   "metadata": {},
   "source": [
    "### approach \n",
    "\n",
    "Put the above said into practice by using the convolutional base of the VGG16 network, trained on ImageNet, to extract interesting features from our cat and dog images, and then training a cat vs. dog classifier on top of these features.\n",
    "\n",
    "The VGG16 model, among others, comes pre-packaged with Keras. You can import it from the `keras.applications` module. Here's the list of \n",
    "image classification models (all pre-trained on the ImageNet dataset) that are available as part of `keras.applications`:\n",
    "\n",
    "* Xception\n",
    "* InceptionV3\n",
    "* ResNet50\n",
    "* VGG16\n",
    "* VGG19\n",
    "* MobileNet\n",
    "\n",
    "To read more about the models use this reference: <a href=\"https://wiki.tum.de/display/ldv/Vergleich+von+vortrainierten+Neuronalen+Netzen\">https://wiki.tum.de/display/ldv/Vergleich+von+vortrainierten+Neuronalen+Netzen</a>.<br>\n",
    "For now, instantiate the VGG16 model:"
   ]
  },
  {
   "cell_type": "code",
   "execution_count": null,
   "metadata": {
    "tags": []
   },
   "outputs": [],
   "source": [
    "import tensorflow\n",
    "tensorflow.keras.__version__"
   ]
  },
  {
   "cell_type": "code",
   "execution_count": null,
   "metadata": {
    "tags": []
   },
   "outputs": [],
   "source": [
    "from tensorflow.keras.applications import VGG16\n",
    "\n",
    "conv_base = VGG16(weights='imagenet', include_top=False, input_shape=(150, 150, 3))"
   ]
  },
  {
   "cell_type": "markdown",
   "metadata": {},
   "source": [
    "Pass three arguments to the VGG16 constructor. These are:\n",
    "\n",
    "* *weights*: specifies which weight checkpoint in keras to initialize the model from\n",
    "\n",
    "* *include_top*: refers to including (or not including) the densely connected classifier on top of the network. By default, this densely connected classifier would correspond to the 1000 classes from ImageNet. Since we intend to use our own densely connected classifier (with only two classes, namely cat and dog), we don't need to include it.\n",
    "\n",
    "* *input_shape*: the shape of the image tensors that will be fed to the network. This argument is purely optional: if it is not specified, then the network will be able to process inputs of any size. Use here the size of the inputs as in the last exercise.\n",
    "\n",
    "Print out the model's summary and have a look at the architecture of the VGG16."
   ]
  },
  {
   "cell_type": "code",
   "execution_count": null,
   "metadata": {
    "scrolled": true,
    "tags": []
   },
   "outputs": [],
   "source": [
    "conv_base.summary()"
   ]
  },
  {
   "cell_type": "markdown",
   "metadata": {},
   "source": [
    "This is the architecture of the VGG16 convolutional base. Its is very similar to the simple CNNs that were used in exercises 7 and 8.\n",
    "\n",
    "The final feature map has got a shape of `(4, 4, 512)`. On top of this feature, a densely connected classifier will be sticked. \n",
    "\n",
    "<font color=\"#C70039\">NOTE:</font>At this point, there are two ways you could proceed: \n",
    "\n",
    "1. <font color=\"orange\">possible method A</font>\n",
    "    * running the convolutional base over the entire data set\n",
    "    * recording its output to a numpy array on disk\n",
    "    * then using this data as input to a standalone densely connected classifier \n",
    "\n",
    "This method is very fast and cheap to run because it only requires running the convolutional base once for every input image, and the convolutional base is by far the most expensive part of the pipeline. However, for the exact same reason, this technique would not allow for leveraging data augmentation at all.\n",
    "\n",
    "2. <font color=\"blue\">possible method B</font>\n",
    "    * extending the convolutional base by adding `Dense` layers on top\n",
    "    * then running the whole thing end-to-end on the entire input data. \n",
    "    \n",
    "This method allows for using data augmentation, because every input image is going through the convolutional base every time it is seen by the model. However, for this same reason, this technique is far more expensive than the first one.\n",
    "\n",
    "In this ninth exercise both techniques are shown. \n",
    "\n",
    "-----------------"
   ]
  },
  {
   "cell_type": "markdown",
   "metadata": {},
   "source": [
    "## <font color=\"orange\">method A</font>\n",
    "\n",
    "Let's walk through the code required to set-up the first method A: recording the output of `conv_base` on the data and using these outputs as inputs to a new model.\n",
    "\n",
    "Simply start by running instances of the previously-introduced `ImageDataGenerator()` to extract images as numpy arrays as well as their labels. Then extract the features from these images simply by calling the `predict` method of the `conv_base` model."
   ]
  },
  {
   "cell_type": "code",
   "execution_count": null,
   "metadata": {
    "tags": []
   },
   "outputs": [],
   "source": [
    "import os\n",
    "import numpy as np\n",
    "from tensorflow.keras.preprocessing.image import ImageDataGenerator\n",
    "\n",
    "base_dir = '../data/cats_and_dogs_small'\n",
    "\n",
    "train_dir = os.path.join(base_dir, 'train')\n",
    "validation_dir = os.path.join(base_dir, 'validation')\n",
    "test_dir = os.path.join(base_dir, 'test')\n",
    "\n",
    "datagen = ImageDataGenerator(rescale=1./255)\n",
    "batch_size = 20\n",
    "\n",
    "def extract_features(directory, sample_count):\n",
    "    features = np.zeros(shape=(sample_count, 4, 4, 512))\n",
    "    labels = np.zeros(shape=(sample_count))\n",
    "    generator = datagen.flow_from_directory(\n",
    "        directory,\n",
    "        target_size=(150, 150),\n",
    "        batch_size=batch_size,\n",
    "        class_mode='binary')\n",
    "    \n",
    "    i = 0\n",
    "    \n",
    "    for inputs_batch, labels_batch in generator:\n",
    "        features_batch = conv_base.predict(inputs_batch)\n",
    "        features[i * batch_size : (i + 1) * batch_size] = features_batch\n",
    "        labels[i * batch_size : (i + 1) * batch_size] = labels_batch\n",
    "        i += 1\n",
    "        if i * batch_size >= sample_count:\n",
    "            # Note that since generators yield data indefinitely in a loop,\n",
    "            # we must `break` after every image has been seen once.\n",
    "            break\n",
    "    return features, labels\n",
    "\n",
    "train_features, train_labels = extract_features(train_dir, 2000)\n",
    "validation_features, validation_labels = extract_features(validation_dir, 1000)\n",
    "test_features, test_labels = extract_features(test_dir, 1000)"
   ]
  },
  {
   "cell_type": "markdown",
   "metadata": {},
   "source": [
    "The extracted features are currently of shape `(samples, 4, 4, 512)`. <br>\n",
    "Feed them to a densely connected classifier!<br>\n",
    "Hence, flatten them to `(samples, 8192)`, (reshape into 4x4x512 !!!)"
   ]
  },
  {
   "cell_type": "code",
   "execution_count": null,
   "metadata": {
    "tags": []
   },
   "outputs": [],
   "source": [
    "train_features = np.reshape(train_features, (2000, 4 * 4 * 512))\n",
    "validation_features = np.reshape(validation_features, (1000, 4 * 4 * 512))\n",
    "test_features = np.reshape(test_features, (1000, 4 * 4 * 512))"
   ]
  },
  {
   "cell_type": "markdown",
   "metadata": {},
   "source": [
    "Now, define a densely (fully) connected classifier and train it on the data and labels that were just recorded. Use 50% dropout as regularization method."
   ]
  },
  {
   "cell_type": "code",
   "execution_count": null,
   "metadata": {
    "tags": []
   },
   "outputs": [],
   "source": [
    "from tensorflow.keras import models\n",
    "from tensorflow.keras import layers\n",
    "from tensorflow.keras import optimizers\n",
    "\n",
    "model = models.Sequential()\n",
    "model.add(layers.Dense(256, activation='relu', input_dim=4 * 4 * 512))\n",
    "model.add(layers.Dropout(0.5))\n",
    "model.add(layers.Dense(1, activation='sigmoid'))\n",
    "\n",
    "# compare the parameters with those from Ex.8\n",
    "model.compile(optimizer=optimizers.RMSprop(lr=2e-5), # set a low learning rate\n",
    "              loss='binary_crossentropy', \n",
    "              metrics=['acc']) \n",
    "\n",
    "# write everything into a history object and set the same hyperparameters from Ex.8\n",
    "# train and validate the FC-ANN in one pass\n",
    "history = model.fit(train_features, train_labels,\n",
    "                    epochs=30,\n",
    "                    batch_size=20,\n",
    "                    validation_data=(validation_features, validation_labels))"
   ]
  },
  {
   "cell_type": "markdown",
   "metadata": {},
   "source": [
    "Training is very fast, since it only has got to deal with two dense layers. \n",
    "An epoch takes between two to three seconds to compute on CPU. (on Colab with pure CPU it is going to be slower for sure)<br> \n",
    "Let's have a look at the loss and accuracy curves during training plotting the history object with pyplot."
   ]
  },
  {
   "cell_type": "code",
   "execution_count": null,
   "metadata": {
    "tags": []
   },
   "outputs": [],
   "source": [
    "import matplotlib.pyplot as plt\n",
    "\n",
    "acc = history.history['acc']\n",
    "val_acc = history.history['val_acc']\n",
    "loss = history.history['loss']\n",
    "val_loss = history.history['val_loss']\n",
    "\n",
    "epochs = range(len(acc))\n",
    "\n",
    "plt.plot(epochs, acc, 'bo', label='Training acc')\n",
    "plt.plot(epochs, val_acc, 'b', label='Validation acc')\n",
    "plt.title('Training and validation accuracy')\n",
    "plt.legend()\n",
    "\n",
    "plt.figure()\n",
    "\n",
    "plt.plot(epochs, loss, 'bo', label='Training loss')\n",
    "plt.plot(epochs, val_loss, 'b', label='Validation loss')\n",
    "plt.title('Training and validation loss')\n",
    "plt.legend()\n",
    "\n",
    "plt.show()"
   ]
  },
  {
   "cell_type": "markdown",
   "metadata": {},
   "source": [
    "### result of feature extraction: <font color=\"orange\">method A</font>\n",
    "The models reaches a validation accuracy of about 90% and hence it is much better than what was achieved in the previous, eigth exercise with the small self-build model trained from scratch. \n",
    "However, the plots also indicate that the model starts overfitting almost from start -- despite using dropout with a fairly large rate (Dropout(0.5)). \n",
    "This is because method A does not leverage data augmentation, which is essential to preventing overfitting with small image data sets."
   ]
  },
  {
   "cell_type": "markdown",
   "metadata": {},
   "source": [
    "<font color=\"ce33ff\">TASK 4</font>"
   ]
  },
  {
   "cell_type": "code",
   "execution_count": null,
   "metadata": {
    "tags": []
   },
   "outputs": [],
   "source": [
    "# add your code here\n",
    "\n"
   ]
  },
  {
   "cell_type": "markdown",
   "metadata": {},
   "source": [
    "## <font color=\"green\">method B</font>\n",
    "Now, try the second method (method B) for doing feature extraction, which is much slower and more expensive, but which allows \n",
    "for leveraging `data augmentation` during training: extending the conv_base model and running it end-to-end on the inputs. \n",
    "\n",
    "----------------------------------------\n",
    "\n",
    "<font color=\"#C70039\">IMPORTANT NOTE | IMPORTANT NOTE | IMPORTANT NOTE: </font>Method B is in fact so expensive that you should only try it if you have access to a GPU: it lasts a really long time on CPU. So either you have access to a really powerful GPU (I have not tested it on Google Colab with GPU support yet) or if not, and you cannot run your code on a GPU, then the previous method A is your way to go.\n",
    "\n",
    "<font color=\"ce33ff\">Just to give you an idea:</font> My virtual machine at the institute has got only CPU support (but ordentlich Wumms!!! as you can see from the following configuration) and it lasts for about 55 minutes to train and validate 30 epochs.\n",
    "\n",
    "<img src=\"./system.png\" style=\"float: center;\" width=\"600\">\n",
    "\n",
    "It would be fun to see and test, for how long it lasts to train and validate an epoch in Google's Colab (I have not done that yet).\n",
    "\n",
    "Nevertheless, this exercise shows the way method B is implemented, so you will be introduced to it and know how to use it somewhen later. Try it youself, if you are brave enough :-)\n",
    "\n",
    "----------------------------------------"
   ]
  },
  {
   "cell_type": "markdown",
   "metadata": {},
   "source": [
    "Because models behave just like layers, a model (like the `conv_base`) can be added to a `Sequential` model just like adding a layer. So doing it the following way, is the way to go."
   ]
  },
  {
   "cell_type": "code",
   "execution_count": null,
   "metadata": {
    "tags": []
   },
   "outputs": [],
   "source": [
    "from tensorflow.keras import models\n",
    "from tensorflow.keras import layers\n",
    "\n",
    "model = models.Sequential()\n",
    "model.add(conv_base)\n",
    "model.add(layers.Flatten())\n",
    "model.add(layers.Dense(256, activation='relu'))\n",
    "model.add(layers.Dense(1, activation='sigmoid'))"
   ]
  },
  {
   "cell_type": "markdown",
   "metadata": {},
   "source": [
    "This was pretty straight forward and this is what the model looks like now"
   ]
  },
  {
   "cell_type": "code",
   "execution_count": null,
   "metadata": {
    "tags": []
   },
   "outputs": [],
   "source": [
    "model.summary()"
   ]
  },
  {
   "cell_type": "markdown",
   "metadata": {},
   "source": [
    "Now, it becomes obvious that the VGG16 is fairly large with a convolutional base of 14.714.688 parameters. \n",
    "The classifier we are adding on top has got additional 2 million parameters.\n",
    "\n",
    "Before compiling and training the new model, a very important thing to do is to `freeze` the convolutional base. **Freezing** a layer or set of layers means preventing their weights from getting updated during training again, since they are already trained, right. If this is forgotten, then the representations that were previously learned by the convolutional base would get modified (forgotten) during training. \n",
    "Since the dense layers on top are randomly initialized, very large weight updates would be propagated through the network, effectively destroying the representations previously learned.\n",
    "\n",
    "In Keras, freezing a network is simply done by setting its `trainable` attribute to `False`:"
   ]
  },
  {
   "cell_type": "code",
   "execution_count": null,
   "metadata": {
    "tags": []
   },
   "outputs": [],
   "source": [
    "conv_base.trainable = True # should be the default setting\n",
    "\n",
    "print('This is the number of trainable weight tensors '\n",
    "      '\\033[4mbefore\\033[0m freezing the conv_base:', len(model.trainable_weights))\n",
    "\n",
    "# now freeze it\n",
    "conv_base.trainable = False\n",
    "\n",
    "print('This is the number of trainable weight tensors '\n",
    "      '\\033[4mafter\\033[0m freezing the conv_base:', len(model.trainable_weights))"
   ]
  },
  {
   "cell_type": "markdown",
   "metadata": {},
   "source": [
    "Now, only the weights from the two dense layers will be trained which is a total of four weight tensors - two per layer (the main weight matrix and the bias vector). \n",
    "\n",
    "<font color=\"#C70039\">IMPORTANT NOTE:</font>\n",
    "\n",
    "* in order for these changes to take effect, first compile the model. \n",
    "* if weight trainability is ever modified after compilation, then the model must be re-compiled or these changes will be ignored.\n",
    "\n",
    "Finally, start training the model with the same data augmentation configuration that was used in exercise 8."
   ]
  },
  {
   "cell_type": "code",
   "execution_count": null,
   "metadata": {
    "tags": []
   },
   "outputs": [],
   "source": [
    "from tensorflow.keras.preprocessing.image import ImageDataGenerator\n",
    "\n",
    "train_datagen = ImageDataGenerator(\n",
    "      rescale=1./255,\n",
    "      rotation_range=40,\n",
    "      width_shift_range=0.2,\n",
    "      height_shift_range=0.2,\n",
    "      shear_range=0.2,\n",
    "      zoom_range=0.2,\n",
    "      horizontal_flip=True,\n",
    "      fill_mode='nearest')\n",
    "\n",
    "# Note again, that the validation data should not be augmented!\n",
    "test_datagen = ImageDataGenerator(rescale=1./255)\n",
    "\n",
    "train_generator = train_datagen.flow_from_directory(\n",
    "        train_dir,\n",
    "        target_size=(150, 150),\n",
    "        batch_size=20,\n",
    "        class_mode='binary')\n",
    "\n",
    "validation_generator = test_datagen.flow_from_directory(\n",
    "        validation_dir,\n",
    "        target_size=(150, 150),\n",
    "        batch_size=20,\n",
    "        class_mode='binary')\n",
    "\n",
    "model.compile(loss='binary_crossentropy',\n",
    "              optimizer=optimizers.RMSprop(lr=2e-5),\n",
    "              metrics=['acc'])\n",
    "\n",
    "history = model.fit(\n",
    "      train_generator,\n",
    "      steps_per_epoch=100,\n",
    "      epochs=30,\n",
    "      validation_data=validation_generator,\n",
    "      validation_steps=50,\n",
    "      verbose=2)"
   ]
  },
  {
   "cell_type": "code",
   "execution_count": null,
   "metadata": {
    "tags": []
   },
   "outputs": [],
   "source": [
    "model.save('CatDogClass_pretrained_CNN_FeatExtraction_using_data_augmentation.h5')"
   ]
  },
  {
   "cell_type": "code",
   "execution_count": null,
   "metadata": {
    "tags": []
   },
   "outputs": [],
   "source": [
    "# dump the history object to a file using pickle\n",
    "import pickle\n",
    "\n",
    "class History_trained_model(object):\n",
    "    def __init__(self, history, epoch, params):\n",
    "        self.history = history\n",
    "        self.epoch = epoch\n",
    "        self.params = params\n",
    "\n",
    "with open('C:/Users/gheisenb/Desktop/home/projects/ANN/Übungen/src'+\n",
    "          '/CatDogClass_pretrained_CNN_FeatExtraction_using_data_augmentation_History', 'wb') as file:\n",
    "    model_history= History_trained_model(history.history, history.epoch, history.params)\n",
    "    pickle.dump(model_history, file, pickle.HIGHEST_PROTOCOL)    "
   ]
  },
  {
   "cell_type": "markdown",
   "metadata": {},
   "source": [
    "<font color=\"ce33ff\">TASKS 5 and 6</font>"
   ]
  },
  {
   "cell_type": "code",
   "execution_count": null,
   "metadata": {
    "tags": []
   },
   "outputs": [],
   "source": [
    "# add your code here\n",
    "\n"
   ]
  },
  {
   "cell_type": "markdown",
   "metadata": {},
   "source": [
    "Plot the results again."
   ]
  },
  {
   "cell_type": "code",
   "execution_count": null,
   "metadata": {
    "tags": []
   },
   "outputs": [],
   "source": [
    "acc = history.history['acc']\n",
    "val_acc = history.history['val_acc']\n",
    "loss = history.history['loss']\n",
    "val_loss = history.history['val_loss']\n",
    "\n",
    "epochs = range(len(acc))\n",
    "\n",
    "plt.plot(epochs, acc, 'bo', label='Training acc')\n",
    "plt.plot(epochs, val_acc, 'b', label='Validation acc')\n",
    "plt.title('Training and validation accuracy')\n",
    "plt.legend()\n",
    "\n",
    "plt.figure()\n",
    "\n",
    "plt.plot(epochs, loss, 'bo', label='Training loss')\n",
    "plt.plot(epochs, val_loss, 'b', label='Validation loss')\n",
    "plt.title('Training and validation loss')\n",
    "plt.legend()\n",
    "\n",
    "plt.show()"
   ]
  },
  {
   "cell_type": "markdown",
   "metadata": {},
   "source": [
    "### result of feature extraction: <font color=\"green\">method B</font>\n",
    "\n",
    "Double BAMM! This is a much higher validation accuracy using data augmentation and so it is much better than the small CNN trained from scratch."
   ]
  },
  {
   "cell_type": "markdown",
   "metadata": {},
   "source": [
    "---------------------------\n",
    "---------------------------\n",
    "\n",
    "## <font color=\"#C70039\">PART II</font>\n",
    "### building a CNN by using a pre-trained CNN with fine-tuning\n",
    "\n",
    "Complementary to *feature extraction*, is the so-called _fine-tuning_.<br>\n",
    "Fine-tuning consists in unfreezing a few of the top layers of a frozen model base used for feature extraction, and jointly training both, the newly added part of the model (in this case, the densely (fully) connected classifier) and these top layers. \n",
    "It is called `fine-tuning`, because it slightly adjusts the more abstract representations of the model being reused, in order to make them more relevant for the problem at hand.\n",
    "\n",
    "------"
   ]
  },
  {
   "cell_type": "markdown",
   "metadata": {},
   "source": [
    "We have stated before that it was necessary to freeze the convolution base of VGG16 in order to be able to train a randomly initialized classifier on top. For the same reason, it is only possible to fine-tune the top layers of the convolutional base once the classifier on top has already been trained. If the classifier wasn't already trained, then the error signal propagating through the network during training would become too large, and the representations previously learned by the layers being fine-tuned would get destroyed. Thus, the steps for fine-tuning a network are as follows<br>\n",
    "(see page 257 of slides `DIS21a.1-9.Convolutional.NeuralNetworks.pdf`):\n",
    "\n",
    "1. Add your custom network on top of an already trained base network.\n",
    "2. Freeze the base network.\n",
    "3. Train the part you added.\n",
    "4. Unfreeze some layers in the base network.\n",
    "5. Jointly train both these layers and the part you added.\n",
    "\n",
    "The first 3 steps are already completed when you did feature extraction. Thus proceed with the 4th step, unfreeze the `conv_base`, and then freeze individual layers inside of it.\n",
    "\n",
    "As a reminder, this is what the convolutional base looks like:"
   ]
  },
  {
   "cell_type": "code",
   "execution_count": null,
   "metadata": {
    "tags": []
   },
   "outputs": [],
   "source": [
    "conv_base.summary()"
   ]
  },
  {
   "cell_type": "markdown",
   "metadata": {},
   "source": [
    "\n",
    "The last 3 convolutional layers will be fine-tuned, which means that all layers up until `block4_pool` should be frozen, and the layers `block5_conv1`, `block5_conv2` and `block5_conv3` should set to be trainable.\n",
    "\n",
    "<font color=\"#C70039\">NOTE:</font> the question would come up, why not fine-tune more layers? \n",
    "Why not fine-tune the entire convolutional base? Obviously you could decide to do that, however, before you are starting this entirely new training, consider the following:\n",
    "\n",
    "* Earlier layers in the convolutional base encode more generic, reusable features, while layers higher up encode more specialized features. It is more useful to fine-tune the more specialized features as these are the ones that need to be repurposed on the new problem at hand. There would be fast-decreasing returns in fine-tuning lower layers.\n",
    "\n",
    "* The more parameters are trained, the more the model is at risk of overfitting. The convolutional base has got 15 million parameters, hence, it would be risky to attempt to train it on the small dataset.\n",
    "\n",
    "Thus, in the current situation it is a pretty good strategy to only fine-tune the top 2 to 3 layers in the convolutional base.\n",
    "\n",
    "So, do continue where you stopped in the previous example."
   ]
  },
  {
   "cell_type": "code",
   "execution_count": null,
   "metadata": {
    "tags": []
   },
   "outputs": [],
   "source": [
    "conv_base.trainable = True\n",
    "set_trainable = False\n",
    "\n",
    "for layer in conv_base.layers:\n",
    "    if layer.name == 'block5_conv1':\n",
    "        set_trainable = True\n",
    "    if set_trainable:\n",
    "        layer.trainable = True\n",
    "    else:\n",
    "        layer.trainable = False"
   ]
  },
  {
   "cell_type": "markdown",
   "metadata": {},
   "source": [
    "Now we can start fine-tuning our network. We will do this with the RMSprop optimizer, using a very low learning rate. The reason for using \n",
    "a low learning rate is that we want to limit the magnitude of the modifications we make to the representations of the 3 layers that we are \n",
    "fine-tuning. Updates that are too large may harm these representations.\n",
    "\n",
    "Now let's proceed with fine-tuning:"
   ]
  },
  {
   "cell_type": "code",
   "execution_count": null,
   "metadata": {
    "tags": []
   },
   "outputs": [],
   "source": [
    "model.compile(loss='binary_crossentropy',\n",
    "              optimizer=optimizers.RMSprop(lr=1e-5),\n",
    "              metrics=['acc'])\n",
    "\n",
    "history = model.fit(\n",
    "      train_generator,\n",
    "      steps_per_epoch=100,\n",
    "      epochs=100,\n",
    "      validation_data=validation_generator,\n",
    "      validation_steps=50)"
   ]
  },
  {
   "cell_type": "markdown",
   "metadata": {},
   "source": [
    "Save the model to your disk for further processing. I have put the model on Moodle, since it was too large to be put on github. On my machine (the same that was mentioned above) the computation last for about 4,5 hours."
   ]
  },
  {
   "cell_type": "code",
   "execution_count": null,
   "metadata": {
    "tags": []
   },
   "outputs": [],
   "source": [
    "model.save('CatDogClass_pretrained_CNN_FeatExtraction_using_fine-tuning.h5')"
   ]
  },
  {
   "cell_type": "code",
   "execution_count": null,
   "metadata": {
    "tags": []
   },
   "outputs": [],
   "source": [
    "# dump the history object to a file using pickle\n",
    "with open('C:/Users/gheisenb/Desktop/home/projects/ANN/Übungen/src'+\n",
    "          '/CatDogClass_pretrained_CNN_FeatExtraction_using_fine-tuning_History', 'wb') as file:\n",
    "    model_history= History_trained_model(history.history, history.epoch, history.params)\n",
    "    pickle.dump(model_history, file, pickle.HIGHEST_PROTOCOL)    "
   ]
  },
  {
   "cell_type": "markdown",
   "metadata": {},
   "source": [
    "<font color=\"ce33ff\">TASK 7</font>"
   ]
  },
  {
   "cell_type": "code",
   "execution_count": null,
   "metadata": {
    "tags": []
   },
   "outputs": [],
   "source": [
    "'''load the model here'''\n",
    "# add you code\n",
    "\n",
    "\n",
    "'''do a validation using a history object'''\n",
    "# add your code"
   ]
  },
  {
   "cell_type": "markdown",
   "metadata": {},
   "source": [
    "Now, plot the results using the same plotting code as before."
   ]
  },
  {
   "cell_type": "code",
   "execution_count": null,
   "metadata": {
    "tags": []
   },
   "outputs": [],
   "source": [
    "acc = history.history['acc']\n",
    "val_acc = history.history['val_acc']\n",
    "loss = history.history['loss']\n",
    "val_loss = history.history['val_loss']\n",
    "\n",
    "epochs = range(len(acc))\n",
    "\n",
    "plt.plot(epochs, acc, 'bo', label='Training acc')\n",
    "plt.plot(epochs, val_acc, 'b', label='Validation acc')\n",
    "plt.title('Training and validation accuracy')\n",
    "plt.legend()\n",
    "\n",
    "plt.figure()\n",
    "\n",
    "plt.plot(epochs, loss, 'bo', label='Training loss')\n",
    "plt.plot(epochs, val_loss, 'b', label='Validation loss')\n",
    "plt.title('Training and validation loss')\n",
    "plt.legend()\n",
    "\n",
    "plt.show()"
   ]
  },
  {
   "cell_type": "markdown",
   "metadata": {},
   "source": [
    "### result of fine tuning\n",
    "\n",
    "This is a higher validation accuracy using data augmentation and so it is much better than the small CNN trained from scratch. These curves look very noisy. To make them more readable, smooth them by replacing every loss and accuracy value with the exponential moving averages of these quantities. Here is a trivial utility function to do this. BTW, this is very often used when working with financial stock market data.Try to follow and understand the code."
   ]
  },
  {
   "cell_type": "code",
   "execution_count": null,
   "metadata": {
    "tags": []
   },
   "outputs": [],
   "source": [
    "def smooth_curve(points, factor=0.8):\n",
    "  smoothed_points = []\n",
    "  for point in points:\n",
    "    if smoothed_points:\n",
    "      previous = smoothed_points[-1]\n",
    "      smoothed_points.append(previous * factor + point * (1 - factor))\n",
    "    else:\n",
    "      smoothed_points.append(point)\n",
    "  return smoothed_points\n",
    "\n",
    "plt.plot(epochs,\n",
    "         smooth_curve(acc), 'bo', label='Smoothed training acc')\n",
    "plt.plot(epochs,\n",
    "         smooth_curve(val_acc), 'b', label='Smoothed validation acc')\n",
    "plt.title('Training and validation accuracy')\n",
    "plt.legend()\n",
    "\n",
    "plt.figure()\n",
    "\n",
    "plt.plot(epochs,\n",
    "         smooth_curve(loss), 'bo', label='Smoothed training loss')\n",
    "plt.plot(epochs,\n",
    "         smooth_curve(val_loss), 'b', label='Smoothed validation loss')\n",
    "plt.title('Training and validation loss')\n",
    "plt.legend()\n",
    "\n",
    "plt.show()"
   ]
  },
  {
   "cell_type": "markdown",
   "metadata": {},
   "source": [
    "Double BAMM!<br>\n",
    "These curves look much cleaner and more stable. This is a very nice 1% absolute improvement.\n",
    "\n",
    "<font color=\"#C70039\">IMPORTANT NOTE:</font> See that the loss curve does not show any real improvement (in fact, it is deteriorating). You may wonder, how could accuracy improve if the loss isn't decreasing? The answer is simple: what is displayed here is an average of pointwise loss values, but what actually matters for accuracy is the distribution of the loss values, not their average, since accuracy is the result of a binary thresholding of the class probability predicted by the model. The model may still be improving even if this isn't reflected in the average loss.\n",
    "\n",
    "Now finally evaluate this model on the test data."
   ]
  },
  {
   "cell_type": "code",
   "execution_count": null,
   "metadata": {
    "tags": []
   },
   "outputs": [],
   "source": [
    "test_generator = test_datagen.flow_from_directory(\n",
    "        test_dir,\n",
    "        target_size=(150, 150),\n",
    "        batch_size=20,\n",
    "        class_mode='binary')\n",
    "\n",
    "test_loss, test_acc = model.evaluate_generator(test_generator, steps=50)\n",
    "print('test acc:', test_acc)"
   ]
  },
  {
   "cell_type": "markdown",
   "metadata": {},
   "source": [
    "\n",
    "Here we get a test accuracy of 94%. Using modern deep learning techniques, we managed to reach this result using only a very small fraction of the training data available (remember the dogs and cats data set to be 25.000 pictures large). There is a huge difference between being able to train on 20.000 samples compared to 2.000 samples!"
   ]
  },
  {
   "cell_type": "markdown",
   "metadata": {},
   "source": [
    "<font color=\"ce33ff\">TASK 8</font>"
   ]
  },
  {
   "cell_type": "code",
   "execution_count": null,
   "metadata": {
    "tags": []
   },
   "outputs": [],
   "source": [
    "# add your own code here\n",
    "\n"
   ]
  }
 ],
 "metadata": {
  "kernelspec": {
   "display_name": "Python 3 (ipykernel)",
   "language": "python",
   "name": "python3"
  },
  "language_info": {
   "codemirror_mode": {
    "name": "ipython",
    "version": 3
   },
   "file_extension": ".py",
   "mimetype": "text/x-python",
   "name": "python",
   "nbconvert_exporter": "python",
   "pygments_lexer": "ipython3",
   "version": "3.9.17"
  }
 },
 "nbformat": 4,
 "nbformat_minor": 4
}
